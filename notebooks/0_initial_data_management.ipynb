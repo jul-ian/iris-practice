{
 "cells": [
  {
   "cell_type": "markdown",
   "id": "3f0516b7",
   "metadata": {},
   "source": [
    "### Initial Data Management of Iris Dataset\n",
    "\n",
    "The data was downloaded as a \\*.data file, which we will read using the read_table function of the pandas module. The documentation provided in the data repository gives us the following attribute information.\n",
    "\n",
    "Attribute Information:\n",
    "1. sepal length in cm\n",
    "2. sepal width in cm\n",
    "3. petal length in cm\n",
    "4. petal width in cm\n",
    "5. class:\n",
    "    - Iris Setosa\n",
    "    - Iris Versicolour\n",
    "    - Iris Virginica\n",
    "    \n",
    "We use these as the column names when reading in the data and save it in the more familiar csv form to the *data/processed* directory."
   ]
  },
  {
   "cell_type": "code",
   "execution_count": 1,
   "id": "422a2bc0",
   "metadata": {},
   "outputs": [],
   "source": [
    "# import packages\n",
    "import os\n",
    "import pandas as pd\n",
    "\n",
    "# custom package\n",
    "from iris_practice.config import data_dir"
   ]
  },
  {
   "cell_type": "code",
   "execution_count": 2,
   "id": "25e89e1b",
   "metadata": {},
   "outputs": [
    {
     "name": "stdout",
     "output_type": "stream",
     "text": [
      "   sepal_length  sepal_width  petal_length  petal_width        class\n",
      "0           5.1          3.5           1.4          0.2  Iris-setosa\n",
      "1           4.9          3.0           1.4          0.2  Iris-setosa\n",
      "2           4.7          3.2           1.3          0.2  Iris-setosa\n",
      "3           4.6          3.1           1.5          0.2  Iris-setosa\n",
      "4           5.0          3.6           1.4          0.2  Iris-setosa \n",
      "\n",
      "Iris-setosa        50\n",
      "Iris-versicolor    50\n",
      "Iris-virginica     50\n",
      "Name: class, dtype: int64\n"
     ]
    }
   ],
   "source": [
    "iris = pd.read_csv(\n",
    "    os.path.join(data_dir, 'raw/iris.data'),\n",
    "    names=['sepal_length', 'sepal_width', 'petal_length', 'petal_width', 'class']\n",
    "    )\n",
    "\n",
    "print(iris.head(), '\\n')\n",
    "print(iris['class'].value_counts())"
   ]
  },
  {
   "cell_type": "code",
   "execution_count": 3,
   "id": "df41f4e8",
   "metadata": {},
   "outputs": [],
   "source": [
    "iris.to_csv(os.path.join(data_dir, 'processed/iris.csv'), index=False)"
   ]
  }
 ],
 "metadata": {
  "kernelspec": {
   "display_name": "Python 3 (ipykernel)",
   "language": "python",
   "name": "python3"
  },
  "language_info": {
   "codemirror_mode": {
    "name": "ipython",
    "version": 3
   },
   "file_extension": ".py",
   "mimetype": "text/x-python",
   "name": "python",
   "nbconvert_exporter": "python",
   "pygments_lexer": "ipython3",
   "version": "3.10.8"
  }
 },
 "nbformat": 4,
 "nbformat_minor": 5
}
